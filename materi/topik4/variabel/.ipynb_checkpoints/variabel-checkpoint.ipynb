{
 "cells": [
  {
   "cell_type": "markdown",
   "metadata": {},
   "source": [
    "# Contoh Penulisan"
   ]
  },
  {
   "cell_type": "markdown",
   "metadata": {},
   "source": [
    "Sesuai aturan penulisan variabel dalam python, dapat kita lihat dari contoh di bawah ini"
   ]
  },
  {
   "cell_type": "code",
   "execution_count": 2,
   "metadata": {},
   "outputs": [],
   "source": [
    "inivariabel = \"contoh variabel dengan awalan karakter huruf\""
   ]
  },
  {
   "cell_type": "code",
   "execution_count": 12,
   "metadata": {},
   "outputs": [],
   "source": [
    "_inivariabel = \"contoh variabel dengan awalan uderscore\""
   ]
  },
  {
   "cell_type": "code",
   "execution_count": 4,
   "metadata": {},
   "outputs": [],
   "source": [
    "ini_variabel = \"contoh variabel dengan karakter berikutnya uderscore\""
   ]
  },
  {
   "cell_type": "code",
   "execution_count": 5,
   "metadata": {},
   "outputs": [],
   "source": [
    "Inivariabel = \"contoh case-sensitif variabel\""
   ]
  },
  {
   "cell_type": "code",
   "execution_count": 8,
   "metadata": {},
   "outputs": [
    {
     "name": "stdout",
     "output_type": "stream",
     "text": [
      "contoh variabel dengan awalan karakter huruf\n"
     ]
    }
   ],
   "source": [
    "print(inivariabel)"
   ]
  },
  {
   "cell_type": "code",
   "execution_count": 9,
   "metadata": {},
   "outputs": [
    {
     "name": "stdout",
     "output_type": "stream",
     "text": [
      "contoh variabel dengan awalan uderscore\n"
     ]
    }
   ],
   "source": [
    "print(_inivariabel)"
   ]
  },
  {
   "cell_type": "code",
   "execution_count": 10,
   "metadata": {},
   "outputs": [
    {
     "name": "stdout",
     "output_type": "stream",
     "text": [
      "contoh variabel dengan karakter berikutnya uderscore\n"
     ]
    }
   ],
   "source": [
    "print(ini_variabel)"
   ]
  },
  {
   "cell_type": "code",
   "execution_count": 11,
   "metadata": {},
   "outputs": [
    {
     "name": "stdout",
     "output_type": "stream",
     "text": [
      "contoh case-sensitif variabel\n"
     ]
    }
   ],
   "source": [
    "print(Inivariabel)"
   ]
  },
  {
   "cell_type": "markdown",
   "metadata": {},
   "source": [
    "setelah kita tahu bagaimana cara penulisan variabel dalam bahasa Python maka hal yang selanjutnya kita pelajari adalah jenis-jenis tipe data, secara umum tipe data pada python dibagi menjadi 3 jenis yaitu : \n",
    "\n",
    "1. Angka\n",
    "2. String\n",
    "3. List\n",
    "4. Tuple\n",
    "5. Dictionary\n",
    "\n",
    "\n",
    "Dibawah ini akan di jelaskan satu persatu tipe data pada python"
   ]
  },
  {
   "cell_type": "markdown",
   "metadata": {},
   "source": [
    "# Angka"
   ]
  },
  {
   "cell_type": "markdown",
   "metadata": {},
   "source": [
    "Tipe data angka dibagi menjadi beberapa jenis lagi :\n",
    "\n",
    "1. Integer : Bilangan bulat, contoh 1,3,5,3,dsb\n",
    "\n",
    "2. Float   : Bilangan pecahan, contoh 1.3 , 3.6 ,dsb"
   ]
  },
  {
   "cell_type": "code",
   "execution_count": 15,
   "metadata": {},
   "outputs": [],
   "source": [
    "umur = 20 #contoh tipe data int\n",
    "berat = 1.5 #contoh tipe data float"
   ]
  },
  {
   "cell_type": "code",
   "execution_count": 17,
   "metadata": {},
   "outputs": [
    {
     "name": "stdout",
     "output_type": "stream",
     "text": [
      "<class 'int'>\n",
      "<class 'float'>\n"
     ]
    }
   ],
   "source": [
    "print(type(umur))\n",
    "print(type(berat))"
   ]
  },
  {
   "cell_type": "markdown",
   "metadata": {},
   "source": [
    "# String"
   ]
  },
  {
   "cell_type": "markdown",
   "metadata": {},
   "source": [
    "Untuk membuat variabel yang memiliki nilai string kita bisa menggunakan\n",
    "('...') bisa juga dengan (\"...\") atau bisa juga kalau kita ingin memberikan\n",
    "teks yang panjang dengan menggunakan (\"\"\"...\"\"\")"
   ]
  },
  {
   "cell_type": "code",
   "execution_count": 19,
   "metadata": {},
   "outputs": [],
   "source": [
    "nama = 'joko'\n",
    "alamat = \"Malang\"\n",
    "tentang = \"\"\" saya adalah mahasiswa polinema.\n",
    "saya dari jurusan teknologi informasi dan dari prodi d4/d3 di TI\"\"\""
   ]
  },
  {
   "cell_type": "code",
   "execution_count": 22,
   "metadata": {},
   "outputs": [
    {
     "name": "stdout",
     "output_type": "stream",
     "text": [
      "Nama    : joko\n",
      "Alamat  : Malang\n",
      "Tentang : saya adalah mahasiswa polinema.\n",
      "saya dari jurusan teknologi informasi dan dari prodi d4/d3 di TI\n"
     ]
    }
   ],
   "source": [
    "print(\"Nama    : \" + nama)\n",
    "print(\"Alamat  : \"+alamat)\n",
    "print(\"Tentang :\"+tentang)"
   ]
  },
  {
   "cell_type": "code",
   "execution_count": null,
   "metadata": {},
   "outputs": [],
   "source": []
  }
 ],
 "metadata": {
  "kernelspec": {
   "display_name": "Python 3",
   "language": "python",
   "name": "python3"
  },
  "language_info": {
   "codemirror_mode": {
    "name": "ipython",
    "version": 3
   },
   "file_extension": ".py",
   "mimetype": "text/x-python",
   "name": "python",
   "nbconvert_exporter": "python",
   "pygments_lexer": "ipython3",
   "version": "3.7.0"
  }
 },
 "nbformat": 4,
 "nbformat_minor": 2
}
